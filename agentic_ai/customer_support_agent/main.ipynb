{
 "cells": [
  {
   "cell_type": "markdown",
   "id": "4e9f212e",
   "metadata": {},
   "source": [
    "# Customer support agent built with LangGraph and PydanticAI\n",
    "\n",
    "This notebook demonstrates how to build a customer support agent using **[LangGraph](https://langchain-ai.github.io/langgraph/concepts/why-langgraph/)** and **[Pydantic AI](https://ai.pydantic.dev/)**.\n",
    "\n",
    "> **Note:** This notebook is only a demo and not intended for production use.\n",
    "\n",
    "---\n",
    "\n",
    "## LangGraph\n",
    "\n",
    "LangGraph acts as a coordinator and flow controller, making it well-suited for building AI agents.  \n",
    "It allows you to define the flow of a conversation as a graph, where each node represents a step in the process and edges define how the conversation progresses based on the current state.\n",
    "\n",
    "---\n",
    "\n",
    "## Pydantic AI\n",
    "\n",
    "Pydantic AI is used to create type-safe and structured data models for information extracted by language models (LLMs).\n",
    "\n",
    "This combination enables you to build robust, interactive agents that can reliably collect and process user input in real-world scenarios, while also providing more flexibility and control over the agent's behavior."
   ]
  },
  {
   "cell_type": "markdown",
   "id": "7e9da3c5",
   "metadata": {},
   "source": [
    "---\n",
    "\n",
    "## Installing dependencies"
   ]
  },
  {
   "cell_type": "code",
   "execution_count": 16,
   "id": "2668568e",
   "metadata": {},
   "outputs": [
    {
     "name": "stdout",
     "output_type": "stream",
     "text": [
      "\u001b[33mWARNING: Running pip as the 'root' user can result in broken permissions and conflicting behaviour with the system package manager, possibly rendering your system unusable. It is recommended to use a virtual environment instead: https://pip.pypa.io/warnings/venv. Use the --root-user-action option if you know what you are doing and want to suppress this warning.\u001b[0m\u001b[33m\n",
      "\u001b[0mNote: you may need to restart the kernel to use updated packages.\n"
     ]
    }
   ],
   "source": [
    "%pip install langgraph pydantic-ai-slim[openai] --quiet"
   ]
  },
  {
   "cell_type": "markdown",
   "id": "16d53e46",
   "metadata": {},
   "source": [
    "---\n",
    "\n",
    "## Preparing environment"
   ]
  },
  {
   "cell_type": "code",
   "execution_count": 17,
   "id": "1bc5a10b",
   "metadata": {},
   "outputs": [],
   "source": [
    "from dotenv import load_dotenv\n",
    "import os\n",
    "\n",
    "load_dotenv(dotenv_path=\"./agentic_ai/customer_support_agent/.env\")\n",
    "\n",
    "OPENAI_API_KEY = os.getenv(\"OPENAI_API_KEY\")\n",
    "OPENAI_BASE_URL = os.getenv(\"OPENAI_BASE_URL\")"
   ]
  },
  {
   "cell_type": "markdown",
   "id": "745fb109",
   "metadata": {},
   "source": [
    "---\n",
    "\n",
    "## Defining agent with Pydantic AI"
   ]
  },
  {
   "cell_type": "markdown",
   "id": "6c25f866",
   "metadata": {},
   "source": [
    "#### Preparing LLM"
   ]
  },
  {
   "cell_type": "code",
   "execution_count": 18,
   "id": "f9bd0358",
   "metadata": {},
   "outputs": [],
   "source": [
    "from pydantic_ai.providers.openai import OpenAIProvider\n",
    "from pydantic_ai.models.fallback import FallbackModel\n",
    "from pydantic_ai.models.openai import OpenAIModel\n",
    "\n",
    "# You can use any LLM that supports the OpenAI chat completion API.\n",
    "# Or use corresponding model and provider from Pydantic AI.\n",
    "gemini_flash_lite_2_5 = OpenAIModel(\n",
    "    model_name=\"models/gemini-2.5-flash-lite\",\n",
    "    provider=OpenAIProvider(\n",
    "        api_key=OPENAI_API_KEY,\n",
    "        base_url=OPENAI_BASE_URL,\n",
    "    ),\n",
    ")\n",
    "\n",
    "gemini_flash_2_5 = OpenAIModel(\n",
    "    model_name=\"models/gemini-2.5-flash\",\n",
    "    provider=OpenAIProvider(\n",
    "        api_key=OPENAI_API_KEY,\n",
    "        base_url=OPENAI_BASE_URL,\n",
    "    ),\n",
    ")\n",
    "\n",
    "# Fallback model that will be used if the first model fails.\n",
    "# It will try to use gemini_flash_lite_2_5 first, and if it fails, it will use gemini_flash_2_5.\n",
    "fallback_model = FallbackModel(gemini_flash_lite_2_5, gemini_flash_2_5)"
   ]
  },
  {
   "cell_type": "markdown",
   "id": "80db9921",
   "metadata": {},
   "source": [
    "#### A customer support agent used to answer users' questions"
   ]
  },
  {
   "cell_type": "code",
   "execution_count": 19,
   "id": "05e680e7",
   "metadata": {},
   "outputs": [
    {
     "name": "stdout",
     "output_type": "stream",
     "text": [
      "AgentRunResult(output='Hello Kevin! Mobile Kingdom is open from 9:00 AM to 9:00 PM on Mondays through Thursdays, 9:00 AM to 10:00 PM on Fridays, 10:00 AM to 10:00 PM on Saturdays, and 10:00 AM to 8:00 PM on Sundays.')\n",
      "AgentRunResult(output=\"We currently have the following items in stock:\\n\\n*   **Iphone 14**: 48 available, priced at $999.99. This is the latest model of Apple's smartphone with advanced features.\\n*   **Samsung Galaxy S22**: 30 available, priced at $899.99. This is a flagship smartphone from Samsung with high-end specifications.\\n*   **Google Pixel 6**: 20 available, priced at $599.99. This is Google's latest smartphone with a stock Android experience.\\n*   **OnePlus 9**: 25 available, priced at $749.99. This is a high-performance smartphone with fast charging capabilities.\\n\\nLet me know if you'd like to know more about any of these models or if there's anything else I can help you with!\")\n",
      "AgentRunResult(output=\"I'm sorry, I can only help with mobile phone-related questions. I can't provide information about menus.\")\n",
      "AgentRunResult(output='I can only help with mobile phone inquiries. Is there anything I can help you with regarding our products or services, Kevin?')\n"
     ]
    }
   ],
   "source": [
    "import datetime\n",
    "from pydantic_ai import Agent, RunContext\n",
    "\n",
    "from agentic_ai.customer_support_agent.service import Service\n",
    "from dataclasses import dataclass\n",
    "\n",
    "\n",
    "@dataclass\n",
    "class CustomerSupportDeps:\n",
    "    username: str\n",
    "    service: Service\n",
    "\n",
    "\n",
    "customer_support_instructions = \"\"\"\n",
    "You are a helpful customer support assistant for \"Mobile Kingdom,\" a mobile phone shop.\n",
    "Your main responsibility is to answer customer questions by exclusively using the provided tools to search for information.\n",
    "\n",
    "- You should answer questions in a polite and warm manner to create a friendly atmosphere.\n",
    "- Do not mention about the tools or how you are retrieving information.\n",
    "- Base your answers solely on the information retrieved from the tools.\n",
    "- If a question is ambiguous, ask for clarification.\n",
    "- If the information is not available through the tools, just say you don't have that information.\n",
    "- If a question is unrelated to the shop, state that you can only answer shop-related questions.\n",
    "\"\"\"\n",
    "\n",
    "CUSTOMER_SUPPORT_AGENT = \"customer_support_agent\"\n",
    "customer_support_agent = Agent(\n",
    "    deps_type=CustomerSupportDeps,\n",
    "    name=CUSTOMER_SUPPORT_AGENT,\n",
    "    model=fallback_model,\n",
    "    instructions=customer_support_instructions,\n",
    "    retries=1,\n",
    "    output_type=str,\n",
    ")\n",
    "\n",
    "\n",
    "@customer_support_agent.instructions\n",
    "def add_user_info(ctx: RunContext[CustomerSupportDeps]):\n",
    "    return f\"The customer's name is {ctx.deps.username}.\"\n",
    "\n",
    "\n",
    "@customer_support_agent.instructions\n",
    "def add_time():\n",
    "    return f\"Current time is {datetime.datetime.now().strftime('%Y-%m-%d %H:%M:%S')}\"\n",
    "\n",
    "\n",
    "@customer_support_agent.tool\n",
    "def get_shop_information(ctx: RunContext[CustomerSupportDeps]):\n",
    "    \"\"\"\n",
    "    Get information about the shop, such as opening hours, address, contact information, etc.\n",
    "    \"\"\"\n",
    "    return ctx.deps.service.get_shop_info()\n",
    "\n",
    "\n",
    "@customer_support_agent.tool\n",
    "def get_stock_information(ctx: RunContext[CustomerSupportDeps]):\n",
    "    \"\"\"\n",
    "    Get information about the items and quantities in stock.\n",
    "    \"\"\"\n",
    "    return ctx.deps.service.get_stocks()\n",
    "\n",
    "\n",
    "# Run the agent with a sample question\n",
    "deps = CustomerSupportDeps(username=\"Kevin\", service=Service())\n",
    "print(\n",
    "    await customer_support_agent.run(\n",
    "        \"What are the opening hours of the shop?\", deps=deps\n",
    "    )\n",
    ")\n",
    "print(await customer_support_agent.run(\"What items are in stock?\", deps=deps))\n",
    "print(await customer_support_agent.run(\"Can you tell me about the menu?\", deps=deps))\n",
    "print(await customer_support_agent.run(\"I want to order a pizza.\", deps=deps))"
   ]
  },
  {
   "cell_type": "markdown",
   "id": "fd65e613",
   "metadata": {},
   "source": [
    "#### An order agent used to help users manage the shopping cart"
   ]
  },
  {
   "cell_type": "code",
   "execution_count": 20,
   "id": "ca45d9b4",
   "metadata": {},
   "outputs": [
    {
     "name": "stdout",
     "output_type": "stream",
     "text": [
      "AgentRunResult(output=\"I've added 2 units of the iPhone 14 to your cart, Kevin! Let me know if there's anything else you'd like to add.\")\n",
      "AgentRunResult(output='Hello Kevin! It looks like you have 2 iPhone 14s in your cart. Is there anything else I can help you with today?')\n",
      "AgentRunResult(output='Thank you for shopping with us, Kevin! Your total amount is $1999.98 for 2 Iphone 14s.')\n",
      "AgentRunResult(output=\"Hello Kevin! We have a wonderful selection of phones in stock right now:\\n\\n*   **Iphone 14**: We have 46 units available at $999.99 each. It's the latest model with advanced features!\\n*   **Samsung Galaxy S22**: We have 30 units available at $899.99 each. This is a flagship phone with high-end specifications.\\n*   **Google Pixel 6**: We have 20 units available at $599.99 each. Experience the latest Android with this one!\\n*   **OnePlus 9**: We have 25 units available at $749.99 each. It's a high-performance phone with fast charging.\\n\\nIs there anything that catches your eye, Kevin?\")\n"
     ]
    }
   ],
   "source": [
    "import datetime\n",
    "from pydantic_ai import Agent, RunContext\n",
    "from pydantic_ai.tools import Tool\n",
    "\n",
    "from agentic_ai.customer_support_agent.service import Service\n",
    "from dataclasses import dataclass\n",
    "\n",
    "\n",
    "@dataclass\n",
    "class ShoppingSupportDeps:\n",
    "    username: str\n",
    "    service: Service\n",
    "\n",
    "\n",
    "shopping_support_instructions = \"\"\"\n",
    "You are a helpful shopping support assistant for \"Mobile Kingdom,\" a mobile phone shop.\n",
    "Your only responsibility is to help customers buy mobile phones. \n",
    "Before answering any question, you should search for information using the provided tools.\n",
    "\n",
    "\n",
    "- Before adding an item to the cart, you should check if the item is in stock and the quantity requested is available.\n",
    "- If the item is in stock, add it to the cart with the EXACT NAME that matches the stock item.\n",
    "- If the item is not in stock, inform the customer that the item is not available.\n",
    "- When removing an item from the cart, check if the item exists in the cart.\n",
    "- You should answer questions in a polite and warm manner to create a friendly atmosphere.\n",
    "- Do not mention about the tools or how you are retrieving information.\n",
    "- Base your answers solely on the information retrieved from the tools.\n",
    "- If a question is ambiguous, ask for clarification.\n",
    "- If the information is not available through the tools, just say you don't have that information.\n",
    "\"\"\"\n",
    "\n",
    "SHOPPING_SUPPORT_AGENT = \"shopping_support_agent\"\n",
    "shopping_support_agent = Agent(\n",
    "    deps_type=ShoppingSupportDeps,\n",
    "    name=SHOPPING_SUPPORT_AGENT,\n",
    "    model=fallback_model,\n",
    "    instructions=shopping_support_instructions,\n",
    "    retries=1,\n",
    "    output_type=str,\n",
    ")\n",
    "\n",
    "\n",
    "@shopping_support_agent.instructions\n",
    "def add_user_info(ctx: RunContext[ShoppingSupportDeps]):\n",
    "    return f\"The customer's name is {ctx.deps.username}.\"\n",
    "\n",
    "\n",
    "@shopping_support_agent.instructions\n",
    "def add_time():\n",
    "    return f\"Current time is {datetime.datetime.now().strftime('%Y-%m-%d %H:%M:%S')}\"\n",
    "\n",
    "\n",
    "@shopping_support_agent.instructions\n",
    "def add_stock_information(ctx: RunContext[ShoppingSupportDeps]):\n",
    "    stock_items = ctx.deps.service.get_stocks()\n",
    "    return f\"The following items are in stock\\n <stocks> {stock_items} </stocks>.\"\n",
    "\n",
    "\n",
    "@shopping_support_agent.tool\n",
    "def add_to_cart(ctx: RunContext[ShoppingSupportDeps], item: str, quantity: int):\n",
    "    \"\"\"\n",
    "    Add an item to the cart.\n",
    "\n",
    "    #### Args\n",
    "    - item: The name of the item to add to the cart.\n",
    "    - quantity: The quantity of the item to add to the cart.\n",
    "    \"\"\"\n",
    "    ctx.deps.service.add_to_cart(item, quantity)\n",
    "\n",
    "@shopping_support_agent.tool\n",
    "def remove_from_cart(ctx: RunContext[ShoppingSupportDeps], item: str, quantity: int):\n",
    "    \"\"\"\n",
    "    Remove an item from the cart.\n",
    "\n",
    "    #### Args\n",
    "    - item: The name of the item to remove from the cart.\n",
    "    - quantity: The quantity of the item to remove from the cart.\n",
    "    \"\"\"\n",
    "    ctx.deps.service.remove_from_cart(item, quantity)\n",
    "\n",
    "@shopping_support_agent.tool\n",
    "def get_cart(ctx: RunContext[ShoppingSupportDeps]):\n",
    "    \"\"\"\n",
    "    Get the items in the cart.\n",
    "    \"\"\"\n",
    "    return ctx.deps.service.get_cart()\n",
    "\n",
    "@shopping_support_agent.tool\n",
    "def checkout(ctx: RunContext[ShoppingSupportDeps]):\n",
    "    \"\"\"\n",
    "    Process the checkout of the items in the cart.\n",
    "    \"\"\"\n",
    "    return ctx.deps.service.checkout()\n",
    "\n",
    "\n",
    "# Run the agent with a sample question\n",
    "deps = ShoppingSupportDeps(username=\"Kevin\", service=Service())\n",
    "print(await shopping_support_agent.run(\"I want to buy 2 Iphone 14\", deps=deps))\n",
    "print(await shopping_support_agent.run(\"What items are in my cart?\", deps=deps))\n",
    "print(await shopping_support_agent.run(\"Checkout\", deps=deps))\n",
    "print(await shopping_support_agent.run(\"What items are in stock?\", deps=deps))"
   ]
  },
  {
   "cell_type": "markdown",
   "id": "e696b33e",
   "metadata": {},
   "source": [
    "#### Input classifier"
   ]
  },
  {
   "cell_type": "code",
   "execution_count": 21,
   "id": "6160835b",
   "metadata": {},
   "outputs": [
    {
     "name": "stdout",
     "output_type": "stream",
     "text": [
      "AgentRunResult(output=InputClassifierOutput(tag=<Tag.SHOPPING_SUPPORT: 'shopping_support_agent'>))\n",
      "AgentRunResult(output=InputClassifierOutput(tag=<Tag.SHOPPING_SUPPORT: 'shopping_support_agent'>))\n",
      "AgentRunResult(output=InputClassifierOutput(tag=<Tag.SHOPPING_SUPPORT: 'shopping_support_agent'>))\n",
      "AgentRunResult(output=InputClassifierOutput(tag=<Tag.CUSTOMER_SUPPORT: 'customer_support_agent'>))\n",
      "AgentRunResult(output=InputClassifierOutput(tag=<Tag.CUSTOMER_SUPPORT: 'customer_support_agent'>))\n",
      "AgentRunResult(output=InputClassifierOutput(tag=<Tag.CUSTOMER_SUPPORT: 'customer_support_agent'>))\n"
     ]
    }
   ],
   "source": [
    "from pydantic_ai import Agent, ModelRetry\n",
    "from pydantic import BaseModel\n",
    "from enum import Enum\n",
    "\n",
    "\n",
    "class Tag(str, Enum):\n",
    "    SHOPPING_SUPPORT = SHOPPING_SUPPORT_AGENT\n",
    "    CUSTOMER_SUPPORT = CUSTOMER_SUPPORT_AGENT\n",
    "\n",
    "\n",
    "class InputClassifierOutput(BaseModel):\n",
    "    tag: Tag\n",
    "\n",
    "\n",
    "input_classifier_instructions = f\"\"\"\n",
    "You are a helpful ai assistant classifier user's input.\n",
    "\n",
    "If the input is related to check or update shopping cart, return \"{SHOPPING_SUPPORT_AGENT}\" else return \"{CUSTOMER_SUPPORT_AGENT}\".\n",
    "\"\"\"\n",
    "\n",
    "INPUT_CLASSIFIER = \"input_classifier\"\n",
    "input_classifier = Agent(\n",
    "    name=INPUT_CLASSIFIER,\n",
    "    model=fallback_model,\n",
    "    instructions=input_classifier_instructions,\n",
    "    retries=1,\n",
    "    output_type=InputClassifierOutput,\n",
    ")\n",
    "\n",
    "\n",
    "@input_classifier.output_validator\n",
    "def validate_result(_, result: InputClassifierOutput) -> InputClassifierOutput:\n",
    "    if result.tag not in [Tag.SHOPPING_SUPPORT, Tag.CUSTOMER_SUPPORT]:\n",
    "        raise ModelRetry(\n",
    "            f\"Invalid tag. Please choose from `{Tag.SHOPPING_SUPPORT}` and `{Tag.CUSTOMER_SUPPORT}`\"\n",
    "        )\n",
    "\n",
    "    return result\n",
    "\n",
    "\n",
    "# Run the agent with a sample question\n",
    "print(await input_classifier.run(\"I want to buy 2 iPhone 14\"))\n",
    "print(await input_classifier.run(\"What items are in my cart?\"))\n",
    "print(await input_classifier.run(\"Checkout\"))\n",
    "print(await input_classifier.run(\"What items are in stock?\"))\n",
    "print(await input_classifier.run(\"Who are you?\"))\n",
    "print(await input_classifier.run(\"I am looking for a mobile phone shop.\"))"
   ]
  },
  {
   "cell_type": "markdown",
   "id": "99ae4b8c",
   "metadata": {},
   "source": [
    "---\n",
    "\n",
    "## Applying agents in LangGraph"
   ]
  },
  {
   "cell_type": "markdown",
   "id": "b58af114",
   "metadata": {},
   "source": [
    "#### State"
   ]
  },
  {
   "cell_type": "code",
   "execution_count": 22,
   "id": "3694d11c",
   "metadata": {},
   "outputs": [],
   "source": [
    "from typing import Annotated, TypedDict\n",
    "from langchain_core.messages import AnyMessage\n",
    "from langgraph.graph.message import add_messages\n",
    "from agentic_ai.customer_support_agent.service import Service\n",
    "\n",
    "class GraphState(TypedDict):\n",
    "    \"\"\"State that the graph will maintain during the conversation.\"\"\"    \n",
    "    # chat history of the conversation\n",
    "    messages: Annotated[\n",
    "        list[AnyMessage], add_messages # use add_messages to append messages to the chat history\n",
    "    ]\n",
    "    user_input: str\n",
    "    username: str\n",
    "    service: Service"
   ]
  },
  {
   "cell_type": "markdown",
   "id": "e37df17e",
   "metadata": {},
   "source": [
    "#### Nodes"
   ]
  },
  {
   "cell_type": "code",
   "execution_count": 23,
   "id": "0d253ae2",
   "metadata": {},
   "outputs": [],
   "source": [
    "from langchain_core.messages import AIMessage\n",
    "\n",
    "async def customer_support_node(state: GraphState):\n",
    "    \"\"\"A node that handles customer support queries.\"\"\"\n",
    "    res = await customer_support_agent.run(state['user_input'], deps=CustomerSupportDeps(username=state['username'], service=state['service']))\n",
    "    return {\n",
    "        \"messages\":[AIMessage(content=res.output)],\n",
    "    }\n",
    "\n",
    "async def shopping_support_node(state: GraphState):\n",
    "    \"\"\"A node that handles shopping support queries.\"\"\"\n",
    "    res = await shopping_support_agent.run(state['user_input'], deps=ShoppingSupportDeps(username=state['username'], service=state['service']))\n",
    "    return {\n",
    "        \"messages\":[AIMessage(content=res.output)],\n",
    "    }"
   ]
  },
  {
   "cell_type": "markdown",
   "id": "88280263",
   "metadata": {},
   "source": [
    "#### Edges"
   ]
  },
  {
   "cell_type": "code",
   "execution_count": null,
   "id": "ec91489f",
   "metadata": {},
   "outputs": [],
   "source": [
    "async def route_entry_point(state: GraphState):\n",
    "    \"\"\"Entry point for the routing graph.\"\"\"\n",
    "    # Use the input classifier to determine which agent to route the query to\n",
    "    res = await input_classifier.run(state['user_input'])\n",
    "    return res.output.tag.value"
   ]
  },
  {
   "cell_type": "markdown",
   "id": "db192499",
   "metadata": {},
   "source": [
    "### Combining state, nodes, and edges in a single graph"
   ]
  },
  {
   "cell_type": "code",
   "execution_count": 25,
   "id": "6bdb1934",
   "metadata": {},
   "outputs": [],
   "source": [
    "from langgraph.checkpoint.memory import MemorySaver\n",
    "from langgraph.graph import StateGraph\n",
    "from langchain_core.messages import HumanMessage\n",
    "\n",
    "\n",
    "builder = StateGraph(GraphState)\n",
    "\n",
    "builder.add_node(CUSTOMER_SUPPORT_AGENT, customer_support_node)\n",
    "builder.add_node(SHOPPING_SUPPORT_AGENT, shopping_support_node)\n",
    "\n",
    "builder.set_conditional_entry_point(route_entry_point, {CUSTOMER_SUPPORT_AGENT: CUSTOMER_SUPPORT_AGENT, SHOPPING_SUPPORT_AGENT: SHOPPING_SUPPORT_AGENT})\n",
    "graph = builder.compile(checkpointer=MemorySaver())"
   ]
  },
  {
   "cell_type": "markdown",
   "id": "1c028f9d",
   "metadata": {},
   "source": [
    "---\n",
    "\n",
    "## Visualizing the agent workflow"
   ]
  },
  {
   "cell_type": "code",
   "execution_count": 26,
   "id": "9da4982f",
   "metadata": {},
   "outputs": [
    {
     "data": {
      "image/png": "[encoded data removed]",
      "text/plain": [
       "<IPython.core.display.Image object>"
      ]
     },
     "metadata": {},
     "output_type": "display_data"
    }
   ],
   "source": [
    "from IPython.display import Image, display\n",
    "\n",
    "try:\n",
    "    display(Image(graph.get_graph().draw_mermaid_png()))\n",
    "except Exception as e:\n",
    "    print(f\"Error displaying graph: {e}\")"
   ]
  },
  {
   "cell_type": "markdown",
   "id": "04b987f0",
   "metadata": {},
   "source": [
    "---\n",
    "\n",
    "## Interacting with our agent"
   ]
  },
  {
   "cell_type": "code",
   "execution_count": 27,
   "id": "53f8227a",
   "metadata": {},
   "outputs": [
    {
     "name": "stdout",
     "output_type": "stream",
     "text": [
      "================================ \u001b[1mHuman Message\u001b[0m ================================\n",
      "When is this shop open?\n",
      "Input classifier result: customer_support_agent\n",
      "Error occurred:  Type is not msgpack serializable: Service\n"
     ]
    }
   ],
   "source": [
    "from langchain_core.runnables.config import RunnableConfig\n",
    "import uuid\n",
    "from agentic_ai.customer_support_agent.service import Service\n",
    "\n",
    "config = RunnableConfig(\n",
    "    configurable={\"thread_id\": str(uuid.uuid4())},\n",
    "    recursion_limit=5, # Set recursion limit to avoid deep recursion issues\n",
    ")\n",
    "\n",
    "async def stream_graph_updates(user_input: str):\n",
    "    init_state: GraphState = {\n",
    "        \"messages\": [HumanMessage(content=user_input)],\n",
    "        \"user_input\": user_input,\n",
    "        \"username\": \"Kevin\",  # You can change this to any username you want\n",
    "        \"service\": Service()  # Initialize the service to access shop information\n",
    "    }\n",
    "    async for event in graph.astream(init_state, config=config):\n",
    "        for value in event.values():\n",
    "            value[\"messages\"][-1].pretty_print()\n",
    "\n",
    "while True:\n",
    "    try:\n",
    "        user_input = input(\"User: (q/Q to quit) \")\n",
    "        print('='*32 + ' \\033[1mHuman Message\\033[0m ' + '='*32)\n",
    "        print(user_input)\n",
    "\n",
    "        if user_input.lower() in [\"q\"]:\n",
    "            print(\"Goodbye!\")\n",
    "            break\n",
    "        await stream_graph_updates(user_input)\n",
    "    except Exception as e:\n",
    "        print(\"Error occurred: \", e)\n",
    "        break"
   ]
  },
  {
   "cell_type": "code",
   "execution_count": null,
   "id": "5d0ccd6a",
   "metadata": {},
   "outputs": [],
   "source": []
  }
 ],
 "metadata": {
  "kernelspec": {
   "display_name": "Python 3 (ipykernel)",
   "language": "python",
   "name": "python3"
  },
  "language_info": {
   "codemirror_mode": {
    "name": "ipython",
    "version": 3
   },
   "file_extension": ".py",
   "mimetype": "text/x-python",
   "name": "python",
   "nbconvert_exporter": "python",
   "pygments_lexer": "ipython3",
   "version": "3.12.11"
  }
 },
 "nbformat": 4,
 "nbformat_minor": 5
}
