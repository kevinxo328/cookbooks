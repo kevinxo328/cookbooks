{
 "cells": [
  {
   "cell_type": "markdown",
   "id": "4e9f212e",
   "metadata": {},
   "source": [
    "# Customer support agent built with LangGraph and PydanticAI\n",
    "\n",
    "This notebook demonstrates how to build a customer support agent using **[LangGraph](https://langchain-ai.github.io/langgraph/concepts/why-langgraph/)** and **[Pydantic AI](https://ai.pydantic.dev/)**.\n",
    "\n",
    "> **Note:** This notebook is only a demo and not intended for production use.\n",
    "\n",
    "---\n",
    "\n",
    "## LangGraph\n",
    "\n",
    "LangGraph acts as a coordinator and flow controller, making it well-suited for building AI agents.  \n",
    "It allows you to define the flow of a conversation as a graph, where each node represents a step in the process and edges define how the conversation progresses based on the current state.\n",
    "\n",
    "---\n",
    "\n",
    "## Pydantic AI\n",
    "\n",
    "Pydantic AI is used to create type-safe and structured data models for information extracted by language models (LLMs).\n",
    "\n",
    "This combination enables you to build robust, interactive agents that can reliably collect and process user input in real-world scenarios, while also providing more flexibility and control over the agent's behavior."
   ]
  },
  {
   "cell_type": "markdown",
   "id": "7e9da3c5",
   "metadata": {},
   "source": [
    "---\n",
    "\n",
    "## Installing dependencies"
   ]
  },
  {
   "cell_type": "code",
   "execution_count": 1,
   "id": "2668568e",
   "metadata": {},
   "outputs": [
    {
     "name": "stdout",
     "output_type": "stream",
     "text": [
      "Note: you may need to restart the kernel to use updated packages.\n"
     ]
    }
   ],
   "source": [
    "%pip install langgraph pydantic-ai-slim[openai] --quiet"
   ]
  },
  {
   "cell_type": "markdown",
   "id": "16d53e46",
   "metadata": {},
   "source": [
    "---\n",
    "\n",
    "## Preparing environment"
   ]
  },
  {
   "cell_type": "code",
   "execution_count": 34,
   "id": "1bc5a10b",
   "metadata": {},
   "outputs": [],
   "source": [
    "from dotenv import load_dotenv\n",
    "import os\n",
    "\n",
    "load_dotenv(dotenv_path=\"./agentic_ai/customer_support_agent/.env\")\n",
    "\n",
    "OPENAI_API_KEY = os.getenv(\"OPENAI_API_KEY\")\n",
    "OPENAI_BASE_URL = os.getenv(\"OPENAI_BASE_URL\")"
   ]
  },
  {
   "cell_type": "markdown",
   "id": "745fb109",
   "metadata": {},
   "source": [
    "---\n",
    "\n",
    "## Defining agent with Pydantic AI"
   ]
  },
  {
   "cell_type": "markdown",
   "id": "6c25f866",
   "metadata": {},
   "source": [
    "#### Preparing LLM"
   ]
  },
  {
   "cell_type": "code",
   "execution_count": 35,
   "id": "f9bd0358",
   "metadata": {},
   "outputs": [],
   "source": [
    "from pydantic_ai.providers.openai import OpenAIProvider\n",
    "from pydantic_ai.models.fallback import FallbackModel\n",
    "from pydantic_ai.models.openai import OpenAIModel\n",
    "\n",
    "# You can use any LLM that supports the OpenAI chat completion API.\n",
    "# Or use corresponding model and provider from Pydantic AI.\n",
    "gemini_flash_lite_2_5 = OpenAIModel(\n",
    "    model_name=\"models/gemini-2.5-flash-lite\",\n",
    "    provider=OpenAIProvider(\n",
    "        api_key=OPENAI_API_KEY,\n",
    "        base_url=OPENAI_BASE_URL,\n",
    "    ),\n",
    ")\n",
    "\n",
    "gemini_flash_2_5 = OpenAIModel(\n",
    "    model_name=\"models/gemini-2.5-flash\",\n",
    "    provider=OpenAIProvider(\n",
    "        api_key=OPENAI_API_KEY,\n",
    "        base_url=OPENAI_BASE_URL,\n",
    "    ),\n",
    ")\n",
    "\n",
    "# Fallback model that will be used if the first model fails.\n",
    "# It will try to use gemini_flash_lite_2_5 first, and if it fails, it will use gemini_flash_2_5.\n",
    "fallback_model = FallbackModel(gemini_flash_lite_2_5, gemini_flash_2_5)"
   ]
  },
  {
   "cell_type": "markdown",
   "id": "80db9921",
   "metadata": {},
   "source": [
    "#### A customer support agent used to answer users' questions"
   ]
  },
  {
   "cell_type": "code",
   "execution_count": 36,
   "id": "05e680e7",
   "metadata": {},
   "outputs": [
    {
     "name": "stdout",
     "output_type": "stream",
     "text": [
      "AgentRunResult(output='Hello Kevin! Mobile Kingdom is open from 9:00 AM to 9:00 PM from Monday to Thursday, 9:00 AM to 10:00 PM on Fridays, and 10:00 AM to 10:00 PM on Saturdays. On Sundays, we are open from 10:00 AM to 8:00 PM.')\n",
      "AgentRunResult(output=\"We have the following phones in stock, Kevin:\\n\\n*   Iphone 14: 48 units available, priced at $999.99. This is the latest model of Apple's smartphone with advanced features.\\n*   Samsung Galaxy S22: 30 units available, priced at $899.99. This is a flagship smartphone from Samsung with high-end specifications.\\n*   Google Pixel 6: 20 units available, priced at $599.99. This is Google's latest smartphone with a stock Android experience.\\n*   OnePlus 9: 25 units available, priced at $749.99. This is a high-performance smartphone with fast charging capabilities.\")\n",
      "AgentRunResult(output=\"Hello Kevin! I can help you with that. Are you perhaps asking about the products we have in stock? I can provide you with information about the mobile phones we carry if that's the case!\")\n",
      "AgentRunResult(output='I can only assist with mobile phone-related queries. Is there anything I can help you with regarding our products or services?')\n"
     ]
    }
   ],
   "source": [
    "import datetime\n",
    "from pydantic_ai import Agent, RunContext\n",
    "\n",
    "from agentic_ai.customer_support_agent.service import Service\n",
    "from dataclasses import dataclass\n",
    "\n",
    "\n",
    "@dataclass\n",
    "class CustomerSupportDeps:\n",
    "    username: str\n",
    "    service: Service\n",
    "\n",
    "\n",
    "customer_support_instructions = \"\"\"\n",
    "You are a helpful customer support assistant for \"Mobile Kingdom,\" a mobile phone shop.\n",
    "Your main responsibility is to answer customer questions by exclusively using the provided tools to search for information.\n",
    "\n",
    "- You should answer questions in a polite and warm manner to create a friendly atmosphere.\n",
    "- Do not mention about the tools or how you are retrieving information.\n",
    "- Base your answers solely on the information retrieved from the tools.\n",
    "- If a question is ambiguous, ask for clarification.\n",
    "- If the information is not available through the tools, just say you don't have that information.\n",
    "- If a question is unrelated to the shop, state that you can only answer shop-related questions.\n",
    "\"\"\"\n",
    "\n",
    "CUSTOMER_SUPPORT_AGENT = \"customer_support_agent\"\n",
    "customer_support_agent = Agent(\n",
    "    deps_type=CustomerSupportDeps,\n",
    "    name=CUSTOMER_SUPPORT_AGENT,\n",
    "    model=fallback_model,\n",
    "    instructions=customer_support_instructions,\n",
    "    retries=1,\n",
    "    output_type=str,\n",
    ")\n",
    "\n",
    "\n",
    "@customer_support_agent.instructions\n",
    "def add_user_info(ctx: RunContext[CustomerSupportDeps]):\n",
    "    return f\"The customer's name is {ctx.deps.username}.\"\n",
    "\n",
    "\n",
    "@customer_support_agent.instructions\n",
    "def add_time():\n",
    "    return f\"Current time is {datetime.datetime.now().strftime('%Y-%m-%d %H:%M:%S')}\"\n",
    "\n",
    "\n",
    "@customer_support_agent.tool\n",
    "def get_shop_information(ctx: RunContext[CustomerSupportDeps]):\n",
    "    \"\"\"\n",
    "    Get information about the shop, such as opening hours, address, contact information, etc.\n",
    "    \"\"\"\n",
    "    return ctx.deps.service.get_shop_info()\n",
    "\n",
    "\n",
    "@customer_support_agent.tool\n",
    "def get_stock_information(ctx: RunContext[CustomerSupportDeps]):\n",
    "    \"\"\"\n",
    "    Get information about the items and quantities in stock.\n",
    "    \"\"\"\n",
    "    return ctx.deps.service.get_stocks()\n",
    "\n",
    "\n",
    "# Run the agent with a sample question\n",
    "deps = CustomerSupportDeps(username=\"Kevin\", service=Service())\n",
    "print(await customer_support_agent.run(\"What are the opening hours?\", deps=deps))\n",
    "print(await customer_support_agent.run(\"What items are in stock?\", deps=deps))\n",
    "print(await customer_support_agent.run(\"Can you tell me about the menu?\", deps=deps))\n",
    "print(await customer_support_agent.run(\"I want to order a pizza.\", deps=deps))"
   ]
  },
  {
   "cell_type": "markdown",
   "id": "fd65e613",
   "metadata": {},
   "source": [
    "#### An order agent used to help users manage the shopping cart"
   ]
  },
  {
   "cell_type": "code",
   "execution_count": 37,
   "id": "ca45d9b4",
   "metadata": {},
   "outputs": [
    {
     "name": "stdout",
     "output_type": "stream",
     "text": [
      "AgentRunResult(output=\"I've added 2 units of the Iphone 14 to your cart, Kevin!\")\n",
      "AgentRunResult(output='You have 2 Iphone 14 in your cart.')\n",
      "AgentRunResult(output='Thank you for your purchase, Kevin! Your order has been placed. The total amount is $1999.98, and it includes 2 units of Iphone 14. We hope you enjoy your new phone!')\n",
      "AgentRunResult(output=\"We have the following items in stock, Kevin:\\n\\n*   **Iphone 14**: We have 46 units available at $999.99 each. It's the latest model of Apple's smartphone with advanced features.\\n*   **Samsung Galaxy S22**: We have 30 units available at $899.99 each. It's a flagship smartphone from Samsung with high-end specifications.\\n*   **Google Pixel 6**: We have 20 units available at $599.99 each. It's Google's latest smartphone with a stock Android experience.\\n*   **OnePlus 9**: We have 25 units available at $749.99 each. It's a high-performance smartphone with fast charging capabilities.\\n\\nLet me know if you'd like to know more about any of these or if you'd like to add something to your cart!\")\n"
     ]
    }
   ],
   "source": [
    "import datetime\n",
    "from pydantic_ai import Agent, RunContext\n",
    "\n",
    "from agentic_ai.customer_support_agent.service import Service\n",
    "from dataclasses import dataclass\n",
    "\n",
    "\n",
    "@dataclass\n",
    "class ShoppingSupportDeps:\n",
    "    username: str\n",
    "    service: Service\n",
    "\n",
    "\n",
    "shopping_support_instructions = \"\"\"\n",
    "You are a helpful shopping support assistant for \"Mobile Kingdom,\" a mobile phone shop.\n",
    "Your only responsibility is to help customers buy mobile phones. \n",
    "Before answering any question, you should search for information using the provided tools.\n",
    "\n",
    "\n",
    "- Before adding an item to the cart, you should check if the item is in stock and the quantity requested is available.\n",
    "- If the item is in stock, add it to the cart with the EXACT NAME that matches the stock item.\n",
    "- If the item is not in stock, inform the customer that the item is not available.\n",
    "- When removing an item from the cart, check if the item exists in the cart.\n",
    "- You should answer questions in a polite and warm manner to create a friendly atmosphere.\n",
    "- Do not mention about the tools or how you are retrieving information.\n",
    "- Base your answers solely on the information retrieved from the tools.\n",
    "- If a question is ambiguous, ask for clarification.\n",
    "- If the information is not available through the tools, just say you don't have that information.\n",
    "\"\"\"\n",
    "\n",
    "SHOPPING_SUPPORT_AGENT = \"shopping_support_agent\"\n",
    "shopping_support_agent = Agent(\n",
    "    deps_type=ShoppingSupportDeps,\n",
    "    name=SHOPPING_SUPPORT_AGENT,\n",
    "    model=fallback_model,\n",
    "    instructions=shopping_support_instructions,\n",
    "    retries=1,\n",
    "    output_type=str,\n",
    ")\n",
    "\n",
    "\n",
    "@shopping_support_agent.instructions\n",
    "def add_user_info(ctx: RunContext[ShoppingSupportDeps]):\n",
    "    return f\"The customer's name is {ctx.deps.username}.\"\n",
    "\n",
    "\n",
    "@shopping_support_agent.instructions\n",
    "def add_time():\n",
    "    return f\"Current time is {datetime.datetime.now().strftime('%Y-%m-%d %H:%M:%S')}\"\n",
    "\n",
    "\n",
    "@shopping_support_agent.instructions\n",
    "def add_stock_information(ctx: RunContext[ShoppingSupportDeps]):\n",
    "    stock_items = ctx.deps.service.get_stocks()\n",
    "    return f\"The following items are in stock\\n <stocks> {stock_items} </stocks>.\"\n",
    "\n",
    "\n",
    "@shopping_support_agent.tool\n",
    "def add_to_cart(ctx: RunContext[ShoppingSupportDeps], item: str, quantity: int):\n",
    "    \"\"\"\n",
    "    Add an item to the cart.\n",
    "\n",
    "    #### Args\n",
    "    - item: The name of the item to add to the cart.\n",
    "    - quantity: The quantity of the item to add to the cart.\n",
    "    \"\"\"\n",
    "    ctx.deps.service.add_to_cart(item, quantity)\n",
    "\n",
    "@shopping_support_agent.tool\n",
    "def remove_from_cart(ctx: RunContext[ShoppingSupportDeps], item: str, quantity: int):\n",
    "    \"\"\"\n",
    "    Remove an item from the cart.\n",
    "\n",
    "    #### Args\n",
    "    - item: The name of the item to remove from the cart.\n",
    "    - quantity: The quantity of the item to remove from the cart.\n",
    "    \"\"\"\n",
    "    ctx.deps.service.remove_from_cart(item, quantity)\n",
    "\n",
    "@shopping_support_agent.tool\n",
    "def get_cart(ctx: RunContext[ShoppingSupportDeps]):\n",
    "    \"\"\"\n",
    "    Get the items in the cart.\n",
    "    \"\"\"\n",
    "    return ctx.deps.service.get_cart()\n",
    "\n",
    "@shopping_support_agent.tool\n",
    "def checkout(ctx: RunContext[ShoppingSupportDeps]):\n",
    "    \"\"\"\n",
    "    Process the checkout of the items in the cart.\n",
    "    \"\"\"\n",
    "    return ctx.deps.service.checkout()\n",
    "\n",
    "\n",
    "# Run the agent with a sample question\n",
    "deps = ShoppingSupportDeps(username=\"Kevin\", service=Service())\n",
    "print(await shopping_support_agent.run(\"I want to buy 2 Iphone 14\", deps=deps))\n",
    "print(await shopping_support_agent.run(\"What items are in my cart?\", deps=deps))\n",
    "print(await shopping_support_agent.run(\"Checkout\", deps=deps))\n",
    "print(await shopping_support_agent.run(\"What items are in stock?\", deps=deps))"
   ]
  },
  {
   "cell_type": "markdown",
   "id": "e696b33e",
   "metadata": {},
   "source": [
    "#### Using LLM to detect the user's intent"
   ]
  },
  {
   "cell_type": "code",
   "execution_count": 51,
   "id": "6160835b",
   "metadata": {},
   "outputs": [
    {
     "name": "stdout",
     "output_type": "stream",
     "text": [
      "AgentRunResult(output=IntentClassifierOutput(intent=<Intent.SHOPPING_SUPPORT: 'shopping_support'>))\n",
      "AgentRunResult(output=IntentClassifierOutput(intent=<Intent.SHOPPING_SUPPORT: 'shopping_support'>))\n",
      "AgentRunResult(output=IntentClassifierOutput(intent=<Intent.SHOPPING_SUPPORT: 'shopping_support'>))\n",
      "AgentRunResult(output=IntentClassifierOutput(intent=<Intent.CUSTOMER_SUPPORT: 'customer_support'>))\n",
      "AgentRunResult(output=IntentClassifierOutput(intent=<Intent.CUSTOMER_SUPPORT: 'customer_support'>))\n",
      "AgentRunResult(output=IntentClassifierOutput(intent=<Intent.CUSTOMER_SUPPORT: 'customer_support'>))\n"
     ]
    }
   ],
   "source": [
    "from pydantic_ai import Agent, ModelRetry\n",
    "from pydantic import BaseModel\n",
    "from enum import Enum\n",
    "\n",
    "\n",
    "class Intent(str, Enum):\n",
    "    SHOPPING_SUPPORT = \"shopping_support\"\n",
    "    CUSTOMER_SUPPORT = \"customer_support\"\n",
    "\n",
    "\n",
    "class IntentClassifierOutput(BaseModel):\n",
    "    intent: Intent\n",
    "\n",
    "\n",
    "intent_classifier_instructions = f\"\"\"\n",
    "You are a helpful ai assistant classifier user's input.\n",
    "\n",
    "If the input is related to check or update shopping cart, return \"{Intent.SHOPPING_SUPPORT.value}\" else return \"{Intent.CUSTOMER_SUPPORT.value}\".\n",
    "\"\"\"\n",
    "\n",
    "INTENT_CLASSIFIER = \"intent_classifier\"\n",
    "intent_classifier = Agent(\n",
    "    name=INTENT_CLASSIFIER,\n",
    "    model=fallback_model,\n",
    "    instructions=intent_classifier_instructions,\n",
    "    retries=1,\n",
    "    output_type=IntentClassifierOutput,\n",
    ")\n",
    "\n",
    "\n",
    "@intent_classifier.output_validator\n",
    "def validate_result(_, result: IntentClassifierOutput) -> IntentClassifierOutput:\n",
    "    if result.intent not in [Intent.SHOPPING_SUPPORT, Intent.CUSTOMER_SUPPORT]:\n",
    "        raise ModelRetry(\n",
    "            f\"Invalid tag. Please choose from `{Intent.SHOPPING_SUPPORT}` and `{Intent.CUSTOMER_SUPPORT}`\"\n",
    "        )\n",
    "\n",
    "    return result\n",
    "\n",
    "\n",
    "# Run the agent with a sample question\n",
    "print(await intent_classifier.run(\"I want to buy 2 iPhone 14\"))\n",
    "print(await intent_classifier.run(\"What items are in my cart?\"))\n",
    "print(await intent_classifier.run(\"Checkout\"))\n",
    "print(await intent_classifier.run(\"What items are in stock?\"))\n",
    "print(await intent_classifier.run(\"Who are you?\"))\n",
    "print(await intent_classifier.run(\"I am looking for a mobile phone shop.\"))"
   ]
  },
  {
   "cell_type": "markdown",
   "id": "99ae4b8c",
   "metadata": {},
   "source": [
    "---\n",
    "\n",
    "## Applying agents in LangGraph"
   ]
  },
  {
   "cell_type": "markdown",
   "id": "b58af114",
   "metadata": {},
   "source": [
    "#### State"
   ]
  },
  {
   "cell_type": "code",
   "execution_count": 53,
   "id": "3694d11c",
   "metadata": {},
   "outputs": [],
   "source": [
    "from typing import Annotated, TypedDict\n",
    "from agentic_ai.customer_support_agent.service import Service\n",
    "from operator import add\n",
    "from pydantic_ai.messages import ModelMessage\n",
    "from typing import Union\n",
    "\n",
    "\n",
    "class GraphState(TypedDict):\n",
    "    \"\"\"State that the graph will maintain during the conversation.\"\"\"\n",
    "\n",
    "    # chat history of the conversation, and use add to reduce old messages and new messages\n",
    "    messages: Annotated[list[ModelMessage], add]\n",
    "    user_input: str\n",
    "    username: str\n",
    "    intent: Union[Intent, None] # The intent of the user input, if classified by the intent classifier"
   ]
  },
  {
   "cell_type": "markdown",
   "id": "e37df17e",
   "metadata": {},
   "source": [
    "#### Nodes"
   ]
  },
  {
   "cell_type": "code",
   "execution_count": 54,
   "id": "0d253ae2",
   "metadata": {},
   "outputs": [],
   "source": [
    "from agentic_ai.customer_support_agent.service import Service\n",
    "from pydantic_ai.messages import ToolCallPart, ToolReturnPart\n",
    "\n",
    "service = Service()\n",
    "\n",
    "async def keep_recent_messages(messages: list[ModelMessage]) -> list[ModelMessage]:\n",
    "    \"\"\"Keep only the last 5 messages that are not related to tools to manage token usage.\"\"\"\n",
    "    messages = [msg for msg in messages if not any(\n",
    "        isinstance(part, (ToolCallPart, ToolReturnPart)) for part in msg.parts\n",
    "    )]\n",
    "    return messages[-5:] if len(messages) > 5 else messages\n",
    "\n",
    "\n",
    "async def customer_support_node(state: GraphState):\n",
    "    \"\"\"A node that handles customer support queries.\"\"\"\n",
    "    print(f\"Running customer support node with state: {state}\")\n",
    "    res = await customer_support_agent.run(\n",
    "        state[\"user_input\"],\n",
    "        deps=CustomerSupportDeps(username=state[\"username\"], service=service),\n",
    "        message_history=await keep_recent_messages(state[\"messages\"]),\n",
    "    )\n",
    "    return {\n",
    "        \"messages\": res.all_messages(),\n",
    "    }\n",
    "\n",
    "\n",
    "async def shopping_support_node(state: GraphState):\n",
    "    \"\"\"A node that handles shopping support queries.\"\"\"\n",
    "    res = await shopping_support_agent.run(\n",
    "        state[\"user_input\"],\n",
    "        deps=ShoppingSupportDeps(username=state[\"username\"], service=service),\n",
    "        message_history=await keep_recent_messages(state[\"messages\"]),\n",
    "    )\n",
    "    return {\n",
    "        \"messages\": res.all_messages(),\n",
    "    }\n",
    "\n",
    "async def intent_classifier_node(state: GraphState):\n",
    "    \"\"\"A node that classifies the user's input.\"\"\"\n",
    "    res = await intent_classifier.run(\n",
    "        state[\"user_input\"]\n",
    "    )\n",
    "    return {\n",
    "        \"intent\": res.output.intent,\n",
    "        \"messages\": [], # Add empty messages to avoid breaking the graph state\n",
    "    }"
   ]
  },
  {
   "cell_type": "markdown",
   "id": "88280263",
   "metadata": {},
   "source": [
    "#### Edges"
   ]
  },
  {
   "cell_type": "code",
   "execution_count": 55,
   "id": "ec91489f",
   "metadata": {},
   "outputs": [],
   "source": [
    "def route_intent(state: GraphState):\n",
    "    \"\"\"Route the input to the appropriate agent based on the intent.\"\"\"\n",
    "    if state[\"intent\"] == Intent.SHOPPING_SUPPORT:\n",
    "        return SHOPPING_SUPPORT_AGENT\n",
    "    elif state[\"intent\"] == Intent.CUSTOMER_SUPPORT:\n",
    "        return CUSTOMER_SUPPORT_AGENT\n",
    "    else:\n",
    "        raise ValueError(f\"Unknown intent: {state['intent']}\")"
   ]
  },
  {
   "cell_type": "markdown",
   "id": "db192499",
   "metadata": {},
   "source": [
    "### Combining state, nodes, and edges in a single graph"
   ]
  },
  {
   "cell_type": "code",
   "execution_count": 57,
   "id": "6bdb1934",
   "metadata": {},
   "outputs": [],
   "source": [
    "from langgraph.checkpoint.memory import MemorySaver\n",
    "from langgraph.graph import StateGraph, START\n",
    "\n",
    "\n",
    "builder = StateGraph(GraphState)\n",
    "builder.add_node(INTENT_CLASSIFIER, intent_classifier_node)\n",
    "builder.add_node(CUSTOMER_SUPPORT_AGENT, customer_support_node)\n",
    "builder.add_node(SHOPPING_SUPPORT_AGENT, shopping_support_node)\n",
    "\n",
    "builder.add_edge(START, INTENT_CLASSIFIER)\n",
    "builder.add_conditional_edges(\n",
    "    INTENT_CLASSIFIER,\n",
    "    route_intent,\n",
    "    {\n",
    "        CUSTOMER_SUPPORT_AGENT: CUSTOMER_SUPPORT_AGENT,\n",
    "        SHOPPING_SUPPORT_AGENT: SHOPPING_SUPPORT_AGENT,\n",
    "    },\n",
    ")\n",
    "graph = builder.compile(checkpointer=MemorySaver())"
   ]
  },
  {
   "cell_type": "markdown",
   "id": "1c028f9d",
   "metadata": {},
   "source": [
    "---\n",
    "\n",
    "## Visualizing the agent workflow"
   ]
  },
  {
   "cell_type": "code",
   "execution_count": 58,
   "id": "9da4982f",
   "metadata": {},
   "outputs": [
    {
     "data": {
      "image/png": "[encoded data removed]",
      "text/plain": [
       "<IPython.core.display.Image object>"
      ]
     },
     "metadata": {},
     "output_type": "display_data"
    }
   ],
   "source": [
    "from IPython.display import Image, display\n",
    "\n",
    "try:\n",
    "    display(Image(graph.get_graph().draw_mermaid_png()))\n",
    "except Exception as e:\n",
    "    print(f\"Error displaying graph: {e}\")"
   ]
  },
  {
   "cell_type": "markdown",
   "id": "04b987f0",
   "metadata": {},
   "source": [
    "---\n",
    "\n",
    "## Interacting with our agent"
   ]
  },
  {
   "cell_type": "code",
   "execution_count": 59,
   "id": "53f8227a",
   "metadata": {},
   "outputs": [
    {
     "name": "stdout",
     "output_type": "stream",
     "text": [
      "================================ \u001b[1mHuman Message\u001b[0m ================================\n",
      "Good morning\n",
      "================================== \u001b[1mAI Message\u001b[0m ==================================\n",
      "No messages yet\n",
      "Running customer support node with state: {'messages': [], 'user_input': 'Good morning', 'username': 'Kevin', 'intent': <Intent.CUSTOMER_SUPPORT: 'customer_support'>}\n",
      "================================== \u001b[1mAI Message\u001b[0m ==================================\n",
      "Good morning, Kevin! How can I help you today?\n",
      "================================ \u001b[1mHuman Message\u001b[0m ================================\n",
      "I want to buy a iphone14\n",
      "================================== \u001b[1mAI Message\u001b[0m ==================================\n",
      "No messages yet\n",
      "================================== \u001b[1mAI Message\u001b[0m ==================================\n",
      "Sure, I've added one iPhone 14 to your cart. Is there anything else you would like to add?\n",
      "================================ \u001b[1mHuman Message\u001b[0m ================================\n",
      "checkout please\n",
      "================================== \u001b[1mAI Message\u001b[0m ==================================\n",
      "No messages yet\n",
      "================================== \u001b[1mAI Message\u001b[0m ==================================\n",
      "Thank you for your purchase, Kevin! Your order for one iPhone 14 has been processed. The total amount is $999.99.\n",
      "================================ \u001b[1mHuman Message\u001b[0m ================================\n",
      "q\n",
      "Goodbye!\n"
     ]
    }
   ],
   "source": [
    "from langchain_core.runnables.config import RunnableConfig\n",
    "import uuid\n",
    "\n",
    "config = RunnableConfig(\n",
    "    configurable={\"thread_id\": str(uuid.uuid4())},\n",
    "    recursion_limit=5, # Set recursion limit to avoid deep recursion issues\n",
    ")\n",
    "\n",
    "async def stream_graph_updates(user_input: str):\n",
    "    init_state: GraphState = {\n",
    "        \"messages\": [],\n",
    "        \"user_input\": user_input,\n",
    "        \"username\": \"Kevin\",  # You can change this to any username you want\n",
    "        \"intent\": None,  # This will be set by the intent classifier node\n",
    "    }\n",
    "    async for event in graph.astream(init_state, config=config):\n",
    "        for value in event.values():\n",
    "            print('='*34 + ' \\033[1mAI Message\\033[0m ' + '='*34)\n",
    "            print(value['messages'][-1].parts[0].content if value['messages'] else \"No messages yet\")\n",
    "\n",
    "while True:\n",
    "    try:\n",
    "        user_input = input(\"User: (q/Q to quit) \")\n",
    "        print('='*32 + ' \\033[1mHuman Message\\033[0m ' + '='*32)\n",
    "        print(user_input)\n",
    "\n",
    "        if user_input.lower() in [\"q\"]:\n",
    "            print(\"Goodbye!\")\n",
    "            break\n",
    "        await stream_graph_updates(user_input)\n",
    "    except Exception as e:\n",
    "        print(\"Error occurred: \", e)\n",
    "        break"
   ]
  },
  {
   "cell_type": "code",
   "execution_count": null,
   "id": "4716867f",
   "metadata": {},
   "outputs": [],
   "source": []
  }
 ],
 "metadata": {
  "kernelspec": {
   "display_name": "Python 3 (ipykernel)",
   "language": "python",
   "name": "python3"
  },
  "language_info": {
   "codemirror_mode": {
    "name": "ipython",
    "version": 3
   },
   "file_extension": ".py",
   "mimetype": "text/x-python",
   "name": "python",
   "nbconvert_exporter": "python",
   "pygments_lexer": "ipython3",
   "version": "3.12.11"
  }
 },
 "nbformat": 4,
 "nbformat_minor": 5
}
