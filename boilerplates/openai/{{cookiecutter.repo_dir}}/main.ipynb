{
 "cells": [
  {
   "cell_type": "code",
   "execution_count": null,
   "id": "2668568e",
   "metadata": {},
   "outputs": [],
   "source": [
    "%pip install openai --quiet"
   ]
  },
  {
   "cell_type": "code",
   "execution_count": null,
   "id": "1bc5a10b",
   "metadata": {},
   "outputs": [],
   "source": [
    "from dotenv import load_dotenv\n",
    "import os\n",
    "\n",
    "load_dotenv(dotenv_path=\"./{{cookiecutter.repo_dir}}/.env\")\n",
    "\n",
    "OPENAI_API_KEY = os.getenv(\"OPENAI_API_KEY\")\n",
    "OPENAI_BASE_URL = os.getenv(\"OPENAI_BASE_URL\")"
   ]
  },
  {
   "cell_type": "code",
   "execution_count": null,
   "id": "10775144",
   "metadata": {},
   "outputs": [],
   "source": [
    "from openai import OpenAI\n",
    "from {{cookiecutter.repo_dir|replace('/','.')}}.utils import get_completion\n",
    "\n",
    "client = OpenAI(\n",
    "    api_key=OPENAI_API_KEY,\n",
    "    base_url=OPENAI_BASE_URL\n",
    ")\n",
    "\n",
    "# Define the model to use\n",
    "# You can change this to any other model you have access to\n",
    "Model = 'google/gemini-2.0-flash-exp:free'\n",
    "\n",
    "get_completion(\n",
    "    client=client,\n",
    "    model=Model,messages=[{'role': 'user', 'content': 'What is the capital of France?'}],\n",
    "    max_tokens=100)"
   ]
  }
 ],
 "metadata": {
  "kernelspec": {
   "display_name": "Python 3 (ipykernel)",
   "language": "python",
   "name": "python3"
  },
  "language_info": {
   "codemirror_mode": {
    "name": "ipython",
    "version": 3
   },
   "file_extension": ".py",
   "mimetype": "text/x-python",
   "name": "python",
   "nbconvert_exporter": "python",
   "pygments_lexer": "ipython3",
   "version": "3.12.11"
  }
 },
 "nbformat": 4,
 "nbformat_minor": 5
}
